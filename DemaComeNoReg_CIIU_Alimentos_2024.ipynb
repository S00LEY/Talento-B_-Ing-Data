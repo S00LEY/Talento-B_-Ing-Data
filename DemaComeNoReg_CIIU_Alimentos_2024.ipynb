{
 "cells": [
  {
   "cell_type": "markdown",
   "metadata": {},
   "source": [
    "# Análisis de Demanda Comercial No Regulada por CIIU - Industria Alimentaria\n",
    "\n",
    "Este notebook tiene como objetivo analizar el comportamiento del consumo de energía eléctrica no regulada para los códigos CIIU relacionados con la industria alimentaria. Este análisis se enfocará en extraer, procesar y visualizar la métrica “Demanda Comercial No Regulada por CIIU” disponible a través de la API de XM, empresa administradora del mercado eléctrico colombiano.\n",
    "\n",
    "A través de este proyecto, se busca:\n",
    "\n",
    "1. Conectarse a la API XM y extraer los datos relacionados con los códigos CIIU correspondientes a la elaboración de productos alimenticios.\n",
    "2. Filtrar y procesar los datos para obtener una frecuencia diaria, adecuada para su análisis.\n",
    "3. Generar visualizaciones claras y efectivas de las series de tiempo y otras representaciones para comprender tendencias y comportamientos en el consumo energético.\n",
    "\n",
    "Librerías utilizadas:\n",
    "\n",
    "* pandas: Para la manipulación y análisis de datos.\n",
    "* datetime: Para manejar y transformar datos temporales.\n",
    "* matplotlib y seaborn: Para crear gráficos informativos y estilizados.\n",
    "* pydataxm: Para interactuar y consultar datos directamente desde la API XM."
   ]
  },
  {
   "cell_type": "markdown",
   "metadata": {},
   "source": [
    "## Configuración Inicial y Dependencias\n",
    "\n",
    "En la siguiente celda, instalaremos la librería pydataxm, diseñada para interactuar de manera sencilla con la API de XM. Esta API proporciona datos relevantes del mercado eléctrico colombiano, como información sobre generación, demanda y precios de la energía.\n"
   ]
  },
  {
   "cell_type": "code",
   "execution_count": null,
   "metadata": {},
   "outputs": [],
   "source": [
    "# Instalar dependencias necesarias\n",
    "!pip install pydataxm\n",
    "!pip install openpyxl\n",
    "!pip install matplotlib seaborn pandas"
   ]
  }
 ],
 "metadata": {
  "language_info": {
   "name": "python"
  }
 },
 "nbformat": 4,
 "nbformat_minor": 2
}
