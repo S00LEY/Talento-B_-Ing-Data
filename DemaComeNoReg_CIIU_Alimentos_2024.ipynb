{
 "cells": [
  {
   "cell_type": "markdown",
   "metadata": {},
   "source": [
    "# Análisis de Demanda Comercial No Regulada por CIIU - Industria Alimentaria\n",
    "\n",
    "Este notebook tiene como objetivo analizar el comportamiento del consumo de energía eléctrica no regulada para los códigos CIIU relacionados con la industria alimentaria. Este análisis se enfocará en extraer, procesar y visualizar la métrica “Demanda Comercial No Regulada por CIIU” disponible a través de la API de XM, empresa administradora del mercado eléctrico colombiano.\n",
    "\n",
    "A través de este proyecto, se busca:\n",
    "\n",
    "1. Conectarse a la API XM y extraer los datos relacionados con los códigos CIIU correspondientes a la elaboración de productos alimenticios.\n",
    "2. Filtrar y procesar los datos para obtener una frecuencia diaria, adecuada para su análisis.\n",
    "3. Generar visualizaciones claras y efectivas de las series de tiempo y otras representaciones para comprender tendencias y comportamientos en el consumo energético.\n",
    "\n",
    "Librerías utilizadas:\n",
    "\n",
    "* pandas: Para la manipulación y análisis de datos.\n",
    "* datetime: Para manejar y transformar datos temporales.\n",
    "* matplotlib y seaborn: Para crear gráficos informativos y estilizados.\n",
    "* pydataxm: Para interactuar y consultar datos directamente desde la API XM."
   ]
  },
  {
   "cell_type": "markdown",
   "metadata": {},
   "source": [
    "## Configuración Inicial y Dependencias\n",
    "\n",
    "En la siguiente celda, instalaremos la librería pydataxm, diseñada para interactuar de manera sencilla con la API de XM. Esta API proporciona datos relevantes del mercado eléctrico colombiano, como información sobre generación, demanda y precios de la energía.\n"
   ]
  },
  {
   "cell_type": "code",
   "execution_count": 3,
   "metadata": {},
   "outputs": [
    {
     "name": "stdout",
     "output_type": "stream",
     "text": [
      "Requirement already satisfied: pydataxm in c:\\users\\yorla\\appdata\\local\\programs\\python\\python312\\lib\\site-packages (0.3.10)\n",
      "Requirement already satisfied: requests in c:\\users\\yorla\\appdata\\local\\programs\\python\\python312\\lib\\site-packages (from pydataxm) (2.32.3)\n",
      "Requirement already satisfied: pandas in c:\\users\\yorla\\appdata\\local\\programs\\python\\python312\\lib\\site-packages (from pydataxm) (2.2.3)\n",
      "Requirement already satisfied: datetime in c:\\users\\yorla\\appdata\\local\\programs\\python\\python312\\lib\\site-packages (from pydataxm) (5.5)\n",
      "Requirement already satisfied: aiohttp in c:\\users\\yorla\\appdata\\local\\programs\\python\\python312\\lib\\site-packages (from pydataxm) (3.11.7)\n",
      "Requirement already satisfied: asyncio in c:\\users\\yorla\\appdata\\local\\programs\\python\\python312\\lib\\site-packages (from pydataxm) (3.4.3)\n",
      "Requirement already satisfied: nest_asyncio in c:\\users\\yorla\\appdata\\local\\programs\\python\\python312\\lib\\site-packages (from pydataxm) (1.6.0)\n",
      "Requirement already satisfied: aiohappyeyeballs>=2.3.0 in c:\\users\\yorla\\appdata\\local\\programs\\python\\python312\\lib\\site-packages (from aiohttp->pydataxm) (2.4.3)\n",
      "Requirement already satisfied: aiosignal>=1.1.2 in c:\\users\\yorla\\appdata\\local\\programs\\python\\python312\\lib\\site-packages (from aiohttp->pydataxm) (1.3.1)\n",
      "Requirement already satisfied: attrs>=17.3.0 in c:\\users\\yorla\\appdata\\local\\programs\\python\\python312\\lib\\site-packages (from aiohttp->pydataxm) (24.2.0)\n",
      "Requirement already satisfied: frozenlist>=1.1.1 in c:\\users\\yorla\\appdata\\local\\programs\\python\\python312\\lib\\site-packages (from aiohttp->pydataxm) (1.5.0)\n",
      "Requirement already satisfied: multidict<7.0,>=4.5 in c:\\users\\yorla\\appdata\\local\\programs\\python\\python312\\lib\\site-packages (from aiohttp->pydataxm) (6.1.0)\n",
      "Requirement already satisfied: propcache>=0.2.0 in c:\\users\\yorla\\appdata\\local\\programs\\python\\python312\\lib\\site-packages (from aiohttp->pydataxm) (0.2.0)\n",
      "Requirement already satisfied: yarl<2.0,>=1.17.0 in c:\\users\\yorla\\appdata\\local\\programs\\python\\python312\\lib\\site-packages (from aiohttp->pydataxm) (1.18.0)\n",
      "Requirement already satisfied: zope.interface in c:\\users\\yorla\\appdata\\local\\programs\\python\\python312\\lib\\site-packages (from datetime->pydataxm) (7.1.1)\n",
      "Requirement already satisfied: pytz in c:\\users\\yorla\\appdata\\local\\programs\\python\\python312\\lib\\site-packages (from datetime->pydataxm) (2024.2)\n",
      "Requirement already satisfied: numpy>=1.26.0 in c:\\users\\yorla\\appdata\\local\\programs\\python\\python312\\lib\\site-packages (from pandas->pydataxm) (2.1.3)\n",
      "Requirement already satisfied: python-dateutil>=2.8.2 in c:\\users\\yorla\\appdata\\local\\programs\\python\\python312\\lib\\site-packages (from pandas->pydataxm) (2.9.0.post0)\n",
      "Requirement already satisfied: tzdata>=2022.7 in c:\\users\\yorla\\appdata\\local\\programs\\python\\python312\\lib\\site-packages (from pandas->pydataxm) (2024.2)\n",
      "Requirement already satisfied: charset-normalizer<4,>=2 in c:\\users\\yorla\\appdata\\local\\programs\\python\\python312\\lib\\site-packages (from requests->pydataxm) (3.3.2)\n",
      "Requirement already satisfied: idna<4,>=2.5 in c:\\users\\yorla\\appdata\\local\\programs\\python\\python312\\lib\\site-packages (from requests->pydataxm) (3.7)\n",
      "Requirement already satisfied: urllib3<3,>=1.21.1 in c:\\users\\yorla\\appdata\\local\\programs\\python\\python312\\lib\\site-packages (from requests->pydataxm) (2.2.2)\n",
      "Requirement already satisfied: certifi>=2017.4.17 in c:\\users\\yorla\\appdata\\local\\programs\\python\\python312\\lib\\site-packages (from requests->pydataxm) (2024.6.2)\n",
      "Requirement already satisfied: six>=1.5 in c:\\users\\yorla\\appdata\\local\\programs\\python\\python312\\lib\\site-packages (from python-dateutil>=2.8.2->pandas->pydataxm) (1.16.0)\n",
      "Requirement already satisfied: setuptools in c:\\users\\yorla\\appdata\\local\\programs\\python\\python312\\lib\\site-packages (from zope.interface->datetime->pydataxm) (75.6.0)\n"
     ]
    },
    {
     "name": "stderr",
     "output_type": "stream",
     "text": [
      "\n",
      "[notice] A new release of pip is available: 24.0 -> 24.3.1\n",
      "[notice] To update, run: python.exe -m pip install --upgrade pip\n"
     ]
    },
    {
     "name": "stdout",
     "output_type": "stream",
     "text": [
      "Requirement already satisfied: openpyxl in c:\\users\\yorla\\appdata\\local\\programs\\python\\python312\\lib\\site-packages (3.1.5)\n",
      "Requirement already satisfied: et-xmlfile in c:\\users\\yorla\\appdata\\local\\programs\\python\\python312\\lib\\site-packages (from openpyxl) (2.0.0)\n"
     ]
    },
    {
     "name": "stderr",
     "output_type": "stream",
     "text": [
      "\n",
      "[notice] A new release of pip is available: 24.0 -> 24.3.1\n",
      "[notice] To update, run: python.exe -m pip install --upgrade pip\n"
     ]
    },
    {
     "name": "stdout",
     "output_type": "stream",
     "text": [
      "Requirement already satisfied: matplotlib in c:\\users\\yorla\\appdata\\local\\programs\\python\\python312\\lib\\site-packages (3.9.2)\n",
      "Requirement already satisfied: seaborn in c:\\users\\yorla\\appdata\\local\\programs\\python\\python312\\lib\\site-packages (0.13.2)\n",
      "Requirement already satisfied: pandas in c:\\users\\yorla\\appdata\\local\\programs\\python\\python312\\lib\\site-packages (2.2.3)\n",
      "Requirement already satisfied: contourpy>=1.0.1 in c:\\users\\yorla\\appdata\\local\\programs\\python\\python312\\lib\\site-packages (from matplotlib) (1.3.1)\n",
      "Requirement already satisfied: cycler>=0.10 in c:\\users\\yorla\\appdata\\local\\programs\\python\\python312\\lib\\site-packages (from matplotlib) (0.12.1)\n",
      "Requirement already satisfied: fonttools>=4.22.0 in c:\\users\\yorla\\appdata\\local\\programs\\python\\python312\\lib\\site-packages (from matplotlib) (4.55.0)\n",
      "Requirement already satisfied: kiwisolver>=1.3.1 in c:\\users\\yorla\\appdata\\local\\programs\\python\\python312\\lib\\site-packages (from matplotlib) (1.4.7)\n",
      "Requirement already satisfied: numpy>=1.23 in c:\\users\\yorla\\appdata\\local\\programs\\python\\python312\\lib\\site-packages (from matplotlib) (2.1.3)\n",
      "Requirement already satisfied: packaging>=20.0 in c:\\users\\yorla\\appdata\\local\\programs\\python\\python312\\lib\\site-packages (from matplotlib) (24.2)\n",
      "Requirement already satisfied: pillow>=8 in c:\\users\\yorla\\appdata\\local\\programs\\python\\python312\\lib\\site-packages (from matplotlib) (11.0.0)\n",
      "Requirement already satisfied: pyparsing>=2.3.1 in c:\\users\\yorla\\appdata\\local\\programs\\python\\python312\\lib\\site-packages (from matplotlib) (3.2.0)\n",
      "Requirement already satisfied: python-dateutil>=2.7 in c:\\users\\yorla\\appdata\\local\\programs\\python\\python312\\lib\\site-packages (from matplotlib) (2.9.0.post0)\n",
      "Requirement already satisfied: pytz>=2020.1 in c:\\users\\yorla\\appdata\\local\\programs\\python\\python312\\lib\\site-packages (from pandas) (2024.2)\n",
      "Requirement already satisfied: tzdata>=2022.7 in c:\\users\\yorla\\appdata\\local\\programs\\python\\python312\\lib\\site-packages (from pandas) (2024.2)\n",
      "Requirement already satisfied: six>=1.5 in c:\\users\\yorla\\appdata\\local\\programs\\python\\python312\\lib\\site-packages (from python-dateutil>=2.7->matplotlib) (1.16.0)\n"
     ]
    },
    {
     "name": "stderr",
     "output_type": "stream",
     "text": [
      "\n",
      "[notice] A new release of pip is available: 24.0 -> 24.3.1\n",
      "[notice] To update, run: python.exe -m pip install --upgrade pip\n"
     ]
    }
   ],
   "source": [
    "# Instalar dependencias necesarias\n",
    "!pip install pydataxm\n",
    "!pip install openpyxl\n",
    "!pip install matplotlib seaborn pandas"
   ]
  },
  {
   "cell_type": "markdown",
   "metadata": {},
   "source": [
    "### Importacion de librerías\n"
   ]
  },
  {
   "cell_type": "code",
   "execution_count": 5,
   "metadata": {},
   "outputs": [],
   "source": [
    "import pandas as pd\n",
    "import datetime as dt  \n",
    "import matplotlib.pyplot as plt\n",
    "import seaborn as sns\n",
    "from pydataxm import * "
   ]
  },
  {
   "cell_type": "markdown",
   "metadata": {},
   "source": [
    "##  Consulta de Datos\n",
    "\n",
    "En esta etapa, se inicializa el cliente de la API utilizando la librería pydataxm, lo que permite establecer la conexión para interactuar con los datos proporcionados por XM. Posteriormente, se realiza una consulta para obtener la colección \"Demanda Comercial No Regulada por CIIU\" (DemaComeNoReg), y los resultados se almacenan en un DataFrame para facilitar su análisis.\n"
   ]
  },
  {
   "cell_type": "code",
   "execution_count": 8,
   "metadata": {},
   "outputs": [
    {
     "data": {
      "text/html": [
       "<div>\n",
       "<style scoped>\n",
       "    .dataframe tbody tr th:only-of-type {\n",
       "        vertical-align: middle;\n",
       "    }\n",
       "\n",
       "    .dataframe tbody tr th {\n",
       "        vertical-align: top;\n",
       "    }\n",
       "\n",
       "    .dataframe thead th {\n",
       "        text-align: right;\n",
       "    }\n",
       "</style>\n",
       "<table border=\"1\" class=\"dataframe\">\n",
       "  <thead>\n",
       "    <tr style=\"text-align: right;\">\n",
       "      <th></th>\n",
       "      <th>MetricId</th>\n",
       "      <th>MetricName</th>\n",
       "      <th>Entity</th>\n",
       "      <th>MaxDays</th>\n",
       "      <th>Type</th>\n",
       "      <th>Url</th>\n",
       "      <th>Filter</th>\n",
       "      <th>MetricUnits</th>\n",
       "      <th>MetricDescription</th>\n",
       "    </tr>\n",
       "  </thead>\n",
       "  <tbody>\n",
       "    <tr>\n",
       "      <th>51</th>\n",
       "      <td>DemaComeNoReg</td>\n",
       "      <td>Demanda Comercial Mercado No Regulado por Agente</td>\n",
       "      <td>Agente</td>\n",
       "      <td>31</td>\n",
       "      <td>HourlyEntities</td>\n",
       "      <td>http://servapibi.xm.com.co/hourly</td>\n",
       "      <td>Codigo Comercializador</td>\n",
       "      <td>kWh</td>\n",
       "      <td>Considera la demanda propia de cada comerciali...</td>\n",
       "    </tr>\n",
       "    <tr>\n",
       "      <th>53</th>\n",
       "      <td>DemaComeNoReg</td>\n",
       "      <td>Demanda Comercial Mercado No Regulado por Sistema</td>\n",
       "      <td>Sistema</td>\n",
       "      <td>31</td>\n",
       "      <td>HourlyEntities</td>\n",
       "      <td>http://servapibi.xm.com.co/hourly</td>\n",
       "      <td>No aplica</td>\n",
       "      <td>kWh</td>\n",
       "      <td>Considera la demanda propia de cada comerciali...</td>\n",
       "    </tr>\n",
       "    <tr>\n",
       "      <th>55</th>\n",
       "      <td>DemaComeNoReg</td>\n",
       "      <td>Demanda Comercial por CIIU</td>\n",
       "      <td>CIIU</td>\n",
       "      <td>31</td>\n",
       "      <td>HourlyEntities</td>\n",
       "      <td>http://servapibi.xm.com.co/hourly</td>\n",
       "      <td>No aplica</td>\n",
       "      <td>kWh</td>\n",
       "      <td>Considera la demanda propia de cada comerciali...</td>\n",
       "    </tr>\n",
       "  </tbody>\n",
       "</table>\n",
       "</div>"
      ],
      "text/plain": [
       "         MetricId                                         MetricName   Entity  \\\n",
       "51  DemaComeNoReg   Demanda Comercial Mercado No Regulado por Agente   Agente   \n",
       "53  DemaComeNoReg  Demanda Comercial Mercado No Regulado por Sistema  Sistema   \n",
       "55  DemaComeNoReg                         Demanda Comercial por CIIU     CIIU   \n",
       "\n",
       "    MaxDays            Type                                Url  \\\n",
       "51       31  HourlyEntities  http://servapibi.xm.com.co/hourly   \n",
       "53       31  HourlyEntities  http://servapibi.xm.com.co/hourly   \n",
       "55       31  HourlyEntities  http://servapibi.xm.com.co/hourly   \n",
       "\n",
       "                    Filter MetricUnits  \\\n",
       "51  Codigo Comercializador         kWh   \n",
       "53               No aplica         kWh   \n",
       "55               No aplica         kWh   \n",
       "\n",
       "                                    MetricDescription  \n",
       "51  Considera la demanda propia de cada comerciali...  \n",
       "53  Considera la demanda propia de cada comerciali...  \n",
       "55  Considera la demanda propia de cada comerciali...  "
      ]
     },
     "execution_count": 8,
     "metadata": {},
     "output_type": "execute_result"
    }
   ],
   "source": [
    "# Conexión al cliente API\n",
    "dataxm_api = pydataxm.ReadDB() \n",
    "\n",
    "# Obtener la colección Demanda Comercial No Regulada por CIIU (\"DemaComeNoReg\") \n",
    "df = dataxm_api.get_collections('DemaComeNoReg')\n",
    "df.head()"
   ]
  }
 ],
 "metadata": {
  "kernelspec": {
   "display_name": "Python 3",
   "language": "python",
   "name": "python3"
  },
  "language_info": {
   "codemirror_mode": {
    "name": "ipython",
    "version": 3
   },
   "file_extension": ".py",
   "mimetype": "text/x-python",
   "name": "python",
   "nbconvert_exporter": "python",
   "pygments_lexer": "ipython3",
   "version": "3.12.3"
  }
 },
 "nbformat": 4,
 "nbformat_minor": 2
}
